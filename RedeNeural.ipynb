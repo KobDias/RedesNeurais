{
  "nbformat": 4,
  "nbformat_minor": 0,
  "metadata": {
    "colab": {
      "provenance": [],
      "authorship_tag": "ABX9TyM0KeEZeq9KXcwgg75xCxOZ",
      "include_colab_link": true
    },
    "kernelspec": {
      "name": "python3",
      "display_name": "Python 3"
    },
    "language_info": {
      "name": "python"
    }
  },
  "cells": [
    {
      "cell_type": "markdown",
      "metadata": {
        "id": "view-in-github",
        "colab_type": "text"
      },
      "source": [
        "<a href=\"https://colab.research.google.com/github/KobDias/RedesNeurais/blob/main/RedeNeural.ipynb\" target=\"_parent\"><img src=\"https://colab.research.google.com/assets/colab-badge.svg\" alt=\"Open In Colab\"/></a>"
      ]
    },
    {
      "cell_type": "markdown",
      "source": [
        "Rede neural!\n",
        "\n",
        "Vamos começar importando!"
      ],
      "metadata": {
        "id": "2X66jf32ufwd"
      }
    },
    {
      "cell_type": "code",
      "execution_count": null,
      "metadata": {
        "id": "HAhTN6bwuXsP"
      },
      "outputs": [],
      "source": [
        "import numpy as np\n",
        "import torch #pytorch importado para juntar no tensorflor\n",
        "import torch.nn.functional as F # funções pras redes Neurais\n",
        "import torchvision # visão computacional no pytorch\n",
        "import matplotlib.pyplot as plt # tabelas\n",
        "from time import time #peggar tempo\n",
        "from torchvision import datasets, transforms\n",
        "from torch import nn,optim"
      ]
    },
    {
      "cell_type": "markdown",
      "source": [
        "Vamos então baixar o dataset do MNIST e transforma isso em tensor pra ter melhor performance com o tensorFlow"
      ],
      "metadata": {
        "id": "p_MF99XWwibV"
      }
    },
    {
      "cell_type": "code",
      "source": [
        "transform = transforms.ToTensor() #Imagem to tensor\n",
        "trainset = datasets.MNIST('MNIST_data/', download=True, train=True, transform=transform) # carrega o treino do dataset\n",
        "trainloader = torch.utils.data.DataLoader(trainset, batch_size=64, shuffle=True) #Cria um buffer que pega os dados por partes\n",
        "\n",
        "valset = datasets.MNIST('../MNIST_data/', download=True, train=True, transform=transform)\n",
        "valloader = torch.utils.data.DataLoader(valset, batch_size=64, shuffle=True)"
      ],
      "metadata": {
        "colab": {
          "base_uri": "https://localhost:8080/"
        },
        "id": "dRF8xGBavGZ1",
        "outputId": "833eeb66-69e5-44d3-f08d-b026c26c1d8d"
      },
      "execution_count": null,
      "outputs": [
        {
          "output_type": "stream",
          "name": "stderr",
          "text": [
            "100%|██████████| 9.91M/9.91M [00:00<00:00, 127MB/s]\n",
            "100%|██████████| 28.9k/28.9k [00:00<00:00, 25.0MB/s]\n",
            "100%|██████████| 1.65M/1.65M [00:00<00:00, 100MB/s]\n",
            "100%|██████████| 4.54k/4.54k [00:00<00:00, 3.92MB/s]\n"
          ]
        }
      ]
    },
    {
      "cell_type": "markdown",
      "source": [
        "Conferir se as imagens estão certas:"
      ],
      "metadata": {
        "id": "zDVPn0zJxlZc"
      }
    },
    {
      "cell_type": "code",
      "source": [
        "dataiter = iter(trainloader)\n",
        "imagens, etiquetas = next(dataiter)\n",
        "plt.imshow(imagens[0].numpy().squeeze(), cmap='gray_r')"
      ],
      "metadata": {
        "colab": {
          "base_uri": "https://localhost:8080/",
          "height": 447
        },
        "id": "FolTbf95vDxN",
        "outputId": "302c2fb7-7c8f-419a-a7b6-a52f005cf086"
      },
      "execution_count": null,
      "outputs": [
        {
          "output_type": "execute_result",
          "data": {
            "text/plain": [
              "<matplotlib.image.AxesImage at 0x791e222d7290>"
            ]
          },
          "metadata": {},
          "execution_count": 9
        },
        {
          "output_type": "display_data",
          "data": {
            "text/plain": [
              "<Figure size 640x480 with 1 Axes>"
            ],
            "image/png": "[encoded data removed]"
          },
          "metadata": {}
        }
      ]
    },
    {
      "cell_type": "markdown",
      "source": [
        "Verificando o tamanho do Tensor da imagem."
      ],
      "metadata": {
        "id": "3cVJsK00yeYz"
      }
    },
    {
      "cell_type": "code",
      "source": [
        "print(imagens[0].shape) # verificar dimensões de cada iamgem\n",
        "print(etiquetas[0].shape) # Verificar o tamanho de cada etuqueta"
      ],
      "metadata": {
        "colab": {
          "base_uri": "https://localhost:8080/"
        },
        "id": "L_0kt4J-yc7g",
        "outputId": "0fd9b962-07a2-4332-b54f-53747e40d4d7"
      },
      "execution_count": null,
      "outputs": [
        {
          "output_type": "stream",
          "name": "stdout",
          "text": [
            "torch.Size([1, 28, 28])\n",
            "torch.Size([])\n"
          ]
        }
      ]
    },
    {
      "cell_type": "markdown",
      "source": [
        "Então, bora pegar uma aplicação Keras com as redes neurais que queremos aqui: https://keras.io/api/applications/\n",
        "\n",
        "Vou usar InceptionV3"
      ],
      "metadata": {
        "id": "H7_5evIu3mac"
      }
    },
    {
      "cell_type": "markdown",
      "source": [
        "Vamos inserir as camadas da rede:"
      ],
      "metadata": {
        "id": "Uxlwj0b24Lrz"
      }
    },
    {
      "cell_type": "code",
      "source": [
        "class Modelo(nn.Module):\n",
        "    def __init__(self):\n",
        "        super(Modelo, self).__init__()\n",
        "        self.linear1 = nn.Linear(28*28, 128) # camada de entrada. 784neuronios conectados a 128\n",
        "        self.linear2 = nn.Linear(128, 64) # camada interna 1. 128 neuronios, ligados a 64\n",
        "        self.linear3 = nn.Linear(64, 10) # camada interna 2, 64 neuronios ligados a 10\n",
        "\n",
        "        #Não há necessidadede definir camada de saida, pois so precisamos pegar o output da camada interna 2\n",
        "    def forward(self,X):\n",
        "        X = F.relu(self.linear1(X)) # camada de ativação da camada de entrada para a camada interna 1\n",
        "        X = F.relu(self.linear2(X)) # camada de ativação da camada interna 1 para a camada interna 2\n",
        "        X = self.linear3(X) # camada de saída\n",
        "        return F.log_softmax(X, dim=1) # dados usados para calcular a perda"
      ],
      "metadata": {
        "id": "aEaByXF44LRr"
      },
      "execution_count": null,
      "outputs": []
    },
    {
      "cell_type": "markdown",
      "source": [],
      "metadata": {
        "id": "fQ1XuQWf6MEj"
      }
    },
    {
      "cell_type": "code",
      "source": [
        "def treino(modelo, trainloader, device):\n",
        "  otimizador = optim.SGD(modelo.parameters(), lr=0.01, momentum=0.5) # define o otimizador\n",
        "  inicio = time() # saber o tempo do treino\n",
        "\n",
        "  criterio = nn.NLLLoss() # definindo criterio para calcular perda\n",
        "  EPOCHS = 10 # numero de epocas que o algoritmo roda. Um bom treinamento tem 100!\n",
        "  modelo.train() #ativando o modo treino\n",
        "\n",
        "  for epoch in range(EPOCHS):\n",
        "    perda_acumulada = 0 # zerando a perda acumulada\n",
        "\n",
        "    for imagens, etiquetas in trainloader:\n",
        "      imagens = imagens.view(imagens.shape[0], -1) # transformando a imagem em vetor de 28*28 casas\n",
        "      otimizador.zero_grad() # zerando os gradientes\n",
        "\n",
        "      output = modelo(imagens.to(device)) # passando as imagens no modelo\n",
        "      perda_instantanea = criterio(output, etiquetas.to(device)) # calculando a perda na epoca\n",
        "\n",
        "      perda_instantanea.backward() # fazendo a back propagation a partir da perda\n",
        "\n",
        "      otimizador.step() # atualizando os pesos e a bias\n",
        "\n",
        "      perda_acumulada += perda_instantanea.item() # atualizando a perda acumulada\n",
        "  else:\n",
        "    print(\"Epoch {} - Perda resultante: {}\".format(epoch+1, perda_acumulada/len(trainloader)))\n",
        "  print(\"\\nTempo de treino (em minutos) = \", (time()-inicio)/60)"
      ],
      "metadata": {
        "id": "C3M6eyK46LYb"
      },
      "execution_count": null,
      "outputs": []
    },
    {
      "cell_type": "code",
      "source": [
        "def validacao(modelo, valloader, device):\n",
        "  conta_corretas, conta_todas = 0, 0\n",
        "  for imagens, etiquetas in valloader:\n",
        "    for i in range(len(etiquetas)):\n",
        "      img = imagens[i].view(1, 784)\n",
        "      # desativar o autograd para acelerar a validação. Grafos computacionais tem um custo alto de processamento\n",
        "      with torch.no_grad():\n",
        "        logps = modelo(img.to(device)) #output do modelo em escala logaritma\n",
        "\n",
        "      ps = torch.exp(logps) # converte output para escala normal(tensor)\n",
        "      probab = list(ps.cpu().numpy()[0])\n",
        "      etiqueta_pred = probab.index(max(probab)) #converte o tensor em numero que o modelo reviu\n",
        "      etiqueta_certa = etiquetas.numpy()[i]\n",
        "      if(etiqueta_certa == etiqueta_pred):\n",
        "        conta_corretas += 1\n",
        "      conta_todas += 1\n",
        "\n",
        "  print(\"Total de imagens testadas =\", conta_todas)\n",
        "  print(\"\\nPrecisão do modelo = {}%\".format(conta_corretas*100/conta_todas))"
      ],
      "metadata": {
        "id": "WObPsULK88Xk"
      },
      "execution_count": null,
      "outputs": []
    },
    {
      "cell_type": "markdown",
      "source": [
        "Vamos rodar o modelo! Vamos verificar se tem o CUDA no pc"
      ],
      "metadata": {
        "id": "mg1CJdaz-Th-"
      }
    },
    {
      "cell_type": "code",
      "source": [
        "modelo = Modelo()\n",
        "device = torch.device(\"cuda\" if torch.cuda.is_available() else \"cpu\")\n",
        "modelo.to(device)"
      ],
      "metadata": {
        "colab": {
          "base_uri": "https://localhost:8080/"
        },
        "id": "1llZ2NbW-GVL",
        "outputId": "91069876-38ee-49d2-c961-e5e80acd8c7b"
      },
      "execution_count": null,
      "outputs": [
        {
          "output_type": "execute_result",
          "data": {
            "text/plain": [
              "Modelo(\n",
              "  (linear1): Linear(in_features=784, out_features=128, bias=True)\n",
              "  (linear2): Linear(in_features=128, out_features=64, bias=True)\n",
              "  (linear3): Linear(in_features=64, out_features=10, bias=True)\n",
              ")"
            ]
          },
          "metadata": {},
          "execution_count": 22
        }
      ]
    },
    {
      "cell_type": "code",
      "source": [],
      "metadata": {
        "id": "tefwiy6_-Er_"
      },
      "execution_count": null,
      "outputs": []
    },
    {
      "cell_type": "code",
      "source": [],
      "metadata": {
        "id": "TbCT1gBx3-7X"
      },
      "execution_count": null,
      "outputs": []
    }
  ]
}